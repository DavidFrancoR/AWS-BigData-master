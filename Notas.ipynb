{
  "nbformat": 4,
  "nbformat_minor": 0,
  "metadata": {
    "colab": {
      "name": "Notas.ipynb",
      "provenance": [],
      "authorship_tag": "ABX9TyMcwf4sG49DAAijOKvgbYfh",
      "include_colab_link": true
    },
    "kernelspec": {
      "name": "python3",
      "display_name": "Python 3"
    },
    "language_info": {
      "name": "python"
    }
  },
  "cells": [
    {
      "cell_type": "markdown",
      "metadata": {
        "id": "view-in-github",
        "colab_type": "text"
      },
      "source": [
        "<a href=\"https://colab.research.google.com/github/DavidFrancoR/AWS-BigData-master/blob/main/Notas.ipynb\" target=\"_parent\"><img src=\"https://colab.research.google.com/assets/colab-badge.svg\" alt=\"Open In Colab\"/></a>"
      ]
    },
    {
      "cell_type": "code",
      "metadata": {
        "colab": {
          "base_uri": "https://localhost:8080/"
        },
        "id": "5SNB0_0Pz9Nb",
        "outputId": "c90fbe5d-d9a6-45d9-a000-d11eca85309d"
      },
      "source": [
        "n1, n2, n3, n4= input().split()\n",
        "n1 = float(n1)\n",
        "n2 = float(n2)\n",
        "n3 = float(n3)\n",
        "n4 = float(n4)\n",
        "\n",
        "print (n1)\n",
        "print (n2)\n",
        "print (n3)\n",
        "print (n4)\n",
        "\n",
        "media1 = (n1+n2+n3+n4)/4\n",
        "media = (n1*(2)+n2*(3)+n3*(4)+n4*(1))/10\n",
        "print('Media: %.1f' %media)\n",
        "\n",
        "if (media>=7):\n",
        "    print('Aluno aprovado.')\n",
        "elif(media<5):\n",
        "    print('Aluno reprovado.')\n",
        "else:\n",
        "    print('Aluno em exame.')\n",
        "    n5 = float(input())\n",
        "    print (n5)\n",
        "    final = (n5+media)/2\n",
        "    print('Nota do exame:', n5)\n",
        "    if (final>=5):\n",
        "        print('Aluno aprovado.')\n",
        "        print('Media final: %.1f' %final)\n",
        "    else:\n",
        "        print('Aluno reprovado.')\n",
        "        print('Media final: %.1f' %final)"
      ],
      "execution_count": null,
      "outputs": [
        {
          "output_type": "stream",
          "text": [
            "0.0 9.9 10.0 0.0\n",
            "0.0\n",
            "9.9\n",
            "10.0\n",
            "0.0\n",
            "Media: 7.0\n",
            "Aluno em exame.\n",
            "5.1\n",
            "5.1\n",
            "Nota do exame: 5.1\n",
            "Aluno aprovado.\n",
            "Media final: 6.0\n"
          ],
          "name": "stdout"
        }
      ]
    },
    {
      "cell_type": "code",
      "metadata": {
        "colab": {
          "base_uri": "https://localhost:8080/"
        },
        "id": "AoevRqEm3hTN",
        "outputId": "8e2bbd3c-b0f2-4d2e-b698-39ca48142c61"
      },
      "source": [
        "n1, n2, n3, n4= input().split()\n",
        "n1 = float(n1)\n",
        "n2 = float(n2)\n",
        "n3 = float(n3)\n",
        "n4 = float(n4)\n",
        "\n",
        "media = (n1*(2)+n2*(3)+n3*(4)+n4*(1))/10\n",
        "media = float(media)\n",
        "\n",
        "print('Media: %.1f' %media)\n",
        "if (media>=7):\n",
        "    print('Aluno aprovado.')\n",
        "elif(media<5):\n",
        "    print('Aluno reprovado.')\n",
        "else:\n",
        "    print('Aluno em exame.')\n",
        "    n5 = float(input())\n",
        "    final = (n5+media)/2\n",
        "    print('Nota do exame:', n5)\n",
        "    if (final>=5):\n",
        "        print('Aluno aprovado.')\n",
        "        print('Media final: %.1f' %final)\n",
        "    else:\n",
        "        print('Aluno reprovado.')\n",
        "        print('Media final: %.1f' %final)"
      ],
      "execution_count": null,
      "outputs": [
        {
          "output_type": "stream",
          "text": [
            "0.0 9.9 10.0 0.0\n",
            "Media: 7.0\n",
            "Aluno em exame.\n",
            "5.1\n",
            "Nota do exame: 5.1\n",
            "Aluno aprovado.\n",
            "Media final: 6.0\n"
          ],
          "name": "stdout"
        }
      ]
    },
    {
      "cell_type": "code",
      "metadata": {
        "colab": {
          "base_uri": "https://localhost:8080/"
        },
        "id": "TIO2A27I5b7k",
        "outputId": "eb6f6783-273d-42c3-f4ec-664fe09a80dc"
      },
      "source": [
        "n1, n2, n3, n4= input().split()\n",
        "n1 = float(n1)\n",
        "n2 = float(n2)\n",
        "n3 = float(n3)\n",
        "n4 = float(n4)\n",
        "\n",
        "media = (n1*(2)+n2*(3)+n3*(4)+n4*(1))/10\n",
        "media = float(media)\n",
        "\n",
        "print('Media: %.1f' %media)\n",
        "if (media>=7):\n",
        "    print('Aluno aprovado.')\n",
        "elif(media<5):\n",
        "    print('Aluno reprovado.')\n",
        "else:\n",
        "    print('Aluno em exame.')\n",
        "    n5 = float(input())\n",
        "    final = (n5+media)/2\n",
        " #   print (final)\n",
        "    print('Nota do exame:', n5)\n",
        "    if (final>=5):\n",
        "        print('Aluno aprovado.')\n",
        "        print('Media final: %.1f' %final)\n",
        "    else:\n",
        "        print('Aluno reprovado.')\n",
        "        print('Media final: %.1f' %final)"
      ],
      "execution_count": null,
      "outputs": [
        {
          "output_type": "stream",
          "text": [
            "2.0 4.0 7.5 8.0\n",
            "Media: 5.4\n",
            "Aluno em exame.\n",
            "2.2\n",
            "Nota do exame: 2.2\n",
            "Aluno reprovado.\n",
            "Media final: 3.8\n"
          ],
          "name": "stdout"
        }
      ]
    }
  ]
}